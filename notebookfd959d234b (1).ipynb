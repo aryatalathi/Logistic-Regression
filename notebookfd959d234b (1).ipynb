{
 "cells": [
  {
   "cell_type": "code",
   "execution_count": 1,
   "metadata": {
    "_cell_guid": "b1076dfc-b9ad-4769-8c92-a6c4dae69d19",
    "_uuid": "8f2839f25d086af736a60e9eeb907d3b93b6e0e5",
    "execution": {
     "iopub.execute_input": "2020-10-04T17:46:51.316592Z",
     "iopub.status.busy": "2020-10-04T17:46:51.315637Z",
     "iopub.status.idle": "2020-10-04T17:46:51.324680Z",
     "shell.execute_reply": "2020-10-04T17:46:51.323798Z"
    },
    "papermill": {
     "duration": 0.038939,
     "end_time": "2020-10-04T17:46:51.324869",
     "exception": false,
     "start_time": "2020-10-04T17:46:51.285930",
     "status": "completed"
    },
    "tags": []
   },
   "outputs": [
    {
     "name": "stdout",
     "output_type": "stream",
     "text": [
      "/kaggle/input/logistic-regression-heart-disease-prediction/framingham_heart_disease.csv\n"
     ]
    }
   ],
   "source": [
    "# This Python 3 environment comes with many helpful analytics libraries installed\n",
    "# It is defined by the kaggle/python Docker image: https://github.com/kaggle/docker-python\n",
    "# For example, here's several helpful packages to load\n",
    "\n",
    "import numpy as np # linear algebra\n",
    "import pandas as pd # data processing, CSV file I/O (e.g. pd.read_csv)\n",
    "\n",
    "# Input data files are available in the read-only \"../input/\" directory\n",
    "# For example, running this (by clicking run or pressing Shift+Enter) will list all files under the input directory\n",
    "\n",
    "import os\n",
    "for dirname, _, filenames in os.walk('/kaggle/input'):\n",
    "    for filename in filenames:\n",
    "        print(os.path.join(dirname, filename))\n",
    "\n",
    "# You can write up to 5GB to the current directory (/kaggle/working/) that gets preserved as output when you create a version using \"Save & Run All\" \n",
    "# You can also write temporary files to /kaggle/temp/, but they won't be saved outside of the current session"
   ]
  },
  {
   "cell_type": "code",
   "execution_count": 2,
   "metadata": {
    "_cell_guid": "79c7e3d0-c299-4dcb-8224-4455121ee9b0",
    "_uuid": "d629ff2d2480ee46fbb7e2d37f6b5fab8052498a",
    "execution": {
     "iopub.execute_input": "2020-10-04T17:46:51.381079Z",
     "iopub.status.busy": "2020-10-04T17:46:51.380312Z",
     "iopub.status.idle": "2020-10-04T17:46:51.446367Z",
     "shell.execute_reply": "2020-10-04T17:46:51.445708Z"
    },
    "papermill": {
     "duration": 0.097208,
     "end_time": "2020-10-04T17:46:51.446507",
     "exception": false,
     "start_time": "2020-10-04T17:46:51.349299",
     "status": "completed"
    },
    "tags": []
   },
   "outputs": [
    {
     "data": {
      "text/html": [
       "<div>\n",
       "<style scoped>\n",
       "    .dataframe tbody tr th:only-of-type {\n",
       "        vertical-align: middle;\n",
       "    }\n",
       "\n",
       "    .dataframe tbody tr th {\n",
       "        vertical-align: top;\n",
       "    }\n",
       "\n",
       "    .dataframe thead th {\n",
       "        text-align: right;\n",
       "    }\n",
       "</style>\n",
       "<table border=\"1\" class=\"dataframe\">\n",
       "  <thead>\n",
       "    <tr style=\"text-align: right;\">\n",
       "      <th></th>\n",
       "      <th>male</th>\n",
       "      <th>age</th>\n",
       "      <th>education</th>\n",
       "      <th>currentSmoker</th>\n",
       "      <th>cigsPerDay</th>\n",
       "      <th>BPMeds</th>\n",
       "      <th>prevalentStroke</th>\n",
       "      <th>prevalentHyp</th>\n",
       "      <th>diabetes</th>\n",
       "      <th>totChol</th>\n",
       "      <th>sysBP</th>\n",
       "      <th>diaBP</th>\n",
       "      <th>BMI</th>\n",
       "      <th>heartRate</th>\n",
       "      <th>glucose</th>\n",
       "      <th>TenYearCHD</th>\n",
       "    </tr>\n",
       "  </thead>\n",
       "  <tbody>\n",
       "    <tr>\n",
       "      <th>0</th>\n",
       "      <td>1</td>\n",
       "      <td>39</td>\n",
       "      <td>4.0</td>\n",
       "      <td>0</td>\n",
       "      <td>0.0</td>\n",
       "      <td>0.0</td>\n",
       "      <td>0</td>\n",
       "      <td>0</td>\n",
       "      <td>0</td>\n",
       "      <td>195.0</td>\n",
       "      <td>106.0</td>\n",
       "      <td>70.0</td>\n",
       "      <td>26.97</td>\n",
       "      <td>80.0</td>\n",
       "      <td>77.0</td>\n",
       "      <td>0</td>\n",
       "    </tr>\n",
       "    <tr>\n",
       "      <th>1</th>\n",
       "      <td>0</td>\n",
       "      <td>46</td>\n",
       "      <td>2.0</td>\n",
       "      <td>0</td>\n",
       "      <td>0.0</td>\n",
       "      <td>0.0</td>\n",
       "      <td>0</td>\n",
       "      <td>0</td>\n",
       "      <td>0</td>\n",
       "      <td>250.0</td>\n",
       "      <td>121.0</td>\n",
       "      <td>81.0</td>\n",
       "      <td>28.73</td>\n",
       "      <td>95.0</td>\n",
       "      <td>76.0</td>\n",
       "      <td>0</td>\n",
       "    </tr>\n",
       "    <tr>\n",
       "      <th>2</th>\n",
       "      <td>1</td>\n",
       "      <td>48</td>\n",
       "      <td>1.0</td>\n",
       "      <td>1</td>\n",
       "      <td>20.0</td>\n",
       "      <td>0.0</td>\n",
       "      <td>0</td>\n",
       "      <td>0</td>\n",
       "      <td>0</td>\n",
       "      <td>245.0</td>\n",
       "      <td>127.5</td>\n",
       "      <td>80.0</td>\n",
       "      <td>25.34</td>\n",
       "      <td>75.0</td>\n",
       "      <td>70.0</td>\n",
       "      <td>0</td>\n",
       "    </tr>\n",
       "    <tr>\n",
       "      <th>3</th>\n",
       "      <td>0</td>\n",
       "      <td>61</td>\n",
       "      <td>3.0</td>\n",
       "      <td>1</td>\n",
       "      <td>30.0</td>\n",
       "      <td>0.0</td>\n",
       "      <td>0</td>\n",
       "      <td>1</td>\n",
       "      <td>0</td>\n",
       "      <td>225.0</td>\n",
       "      <td>150.0</td>\n",
       "      <td>95.0</td>\n",
       "      <td>28.58</td>\n",
       "      <td>65.0</td>\n",
       "      <td>103.0</td>\n",
       "      <td>1</td>\n",
       "    </tr>\n",
       "    <tr>\n",
       "      <th>4</th>\n",
       "      <td>0</td>\n",
       "      <td>46</td>\n",
       "      <td>3.0</td>\n",
       "      <td>1</td>\n",
       "      <td>23.0</td>\n",
       "      <td>0.0</td>\n",
       "      <td>0</td>\n",
       "      <td>0</td>\n",
       "      <td>0</td>\n",
       "      <td>285.0</td>\n",
       "      <td>130.0</td>\n",
       "      <td>84.0</td>\n",
       "      <td>23.10</td>\n",
       "      <td>85.0</td>\n",
       "      <td>85.0</td>\n",
       "      <td>0</td>\n",
       "    </tr>\n",
       "  </tbody>\n",
       "</table>\n",
       "</div>"
      ],
      "text/plain": [
       "   male  age  education  currentSmoker  cigsPerDay  BPMeds  prevalentStroke  \\\n",
       "0     1   39        4.0              0         0.0     0.0                0   \n",
       "1     0   46        2.0              0         0.0     0.0                0   \n",
       "2     1   48        1.0              1        20.0     0.0                0   \n",
       "3     0   61        3.0              1        30.0     0.0                0   \n",
       "4     0   46        3.0              1        23.0     0.0                0   \n",
       "\n",
       "   prevalentHyp  diabetes  totChol  sysBP  diaBP    BMI  heartRate  glucose  \\\n",
       "0             0         0    195.0  106.0   70.0  26.97       80.0     77.0   \n",
       "1             0         0    250.0  121.0   81.0  28.73       95.0     76.0   \n",
       "2             0         0    245.0  127.5   80.0  25.34       75.0     70.0   \n",
       "3             1         0    225.0  150.0   95.0  28.58       65.0    103.0   \n",
       "4             0         0    285.0  130.0   84.0  23.10       85.0     85.0   \n",
       "\n",
       "   TenYearCHD  \n",
       "0           0  \n",
       "1           0  \n",
       "2           0  \n",
       "3           1  \n",
       "4           0  "
      ]
     },
     "execution_count": 2,
     "metadata": {},
     "output_type": "execute_result"
    }
   ],
   "source": [
    "import numpy as np\n",
    "import pandas as pd\n",
    "import matplotlib.pyplot as plt\n",
    "\n",
    "dataset = pd.read_csv('../input/logistic-regression-heart-disease-prediction/framingham_heart_disease.csv') #adding data\n",
    "#print 1st 5 rows\n",
    "dataset.head()"
   ]
  },
  {
   "cell_type": "code",
   "execution_count": 3,
   "metadata": {
    "execution": {
     "iopub.execute_input": "2020-10-04T17:46:51.492860Z",
     "iopub.status.busy": "2020-10-04T17:46:51.491797Z",
     "iopub.status.idle": "2020-10-04T17:46:51.500440Z",
     "shell.execute_reply": "2020-10-04T17:46:51.500995Z"
    },
    "papermill": {
     "duration": 0.034482,
     "end_time": "2020-10-04T17:46:51.501184",
     "exception": false,
     "start_time": "2020-10-04T17:46:51.466702",
     "status": "completed"
    },
    "tags": []
   },
   "outputs": [
    {
     "data": {
      "text/plain": [
       "male                 0\n",
       "age                  0\n",
       "education          105\n",
       "currentSmoker        0\n",
       "cigsPerDay          29\n",
       "BPMeds              53\n",
       "prevalentStroke      0\n",
       "prevalentHyp         0\n",
       "diabetes             0\n",
       "totChol             50\n",
       "sysBP                0\n",
       "diaBP                0\n",
       "BMI                 19\n",
       "heartRate            1\n",
       "glucose            388\n",
       "TenYearCHD           0\n",
       "dtype: int64"
      ]
     },
     "execution_count": 3,
     "metadata": {},
     "output_type": "execute_result"
    }
   ],
   "source": [
    "dataset.isnull().sum()"
   ]
  },
  {
   "cell_type": "code",
   "execution_count": 4,
   "metadata": {
    "execution": {
     "iopub.execute_input": "2020-10-04T17:46:51.554674Z",
     "iopub.status.busy": "2020-10-04T17:46:51.553617Z",
     "iopub.status.idle": "2020-10-04T17:46:51.557853Z",
     "shell.execute_reply": "2020-10-04T17:46:51.558485Z"
    },
    "papermill": {
     "duration": 0.036571,
     "end_time": "2020-10-04T17:46:51.558682",
     "exception": false,
     "start_time": "2020-10-04T17:46:51.522111",
     "status": "completed"
    },
    "tags": []
   },
   "outputs": [
    {
     "data": {
      "text/plain": [
       "male                 int64\n",
       "age                  int64\n",
       "education          float64\n",
       "currentSmoker        int64\n",
       "cigsPerDay         float64\n",
       "BPMeds             float64\n",
       "prevalentStroke      int64\n",
       "prevalentHyp         int64\n",
       "diabetes             int64\n",
       "totChol            float64\n",
       "sysBP              float64\n",
       "diaBP              float64\n",
       "BMI                float64\n",
       "heartRate          float64\n",
       "glucose            float64\n",
       "TenYearCHD           int64\n",
       "dtype: object"
      ]
     },
     "execution_count": 4,
     "metadata": {},
     "output_type": "execute_result"
    }
   ],
   "source": [
    "dataset.dtypes"
   ]
  },
  {
   "cell_type": "code",
   "execution_count": 5,
   "metadata": {
    "execution": {
     "iopub.execute_input": "2020-10-04T17:46:51.613240Z",
     "iopub.status.busy": "2020-10-04T17:46:51.611982Z",
     "iopub.status.idle": "2020-10-04T17:46:51.637530Z",
     "shell.execute_reply": "2020-10-04T17:46:51.636830Z"
    },
    "papermill": {
     "duration": 0.057325,
     "end_time": "2020-10-04T17:46:51.637663",
     "exception": false,
     "start_time": "2020-10-04T17:46:51.580338",
     "status": "completed"
    },
    "tags": []
   },
   "outputs": [
    {
     "data": {
      "text/html": [
       "<div>\n",
       "<style scoped>\n",
       "    .dataframe tbody tr th:only-of-type {\n",
       "        vertical-align: middle;\n",
       "    }\n",
       "\n",
       "    .dataframe tbody tr th {\n",
       "        vertical-align: top;\n",
       "    }\n",
       "\n",
       "    .dataframe thead th {\n",
       "        text-align: right;\n",
       "    }\n",
       "</style>\n",
       "<table border=\"1\" class=\"dataframe\">\n",
       "  <thead>\n",
       "    <tr style=\"text-align: right;\">\n",
       "      <th></th>\n",
       "      <th>male</th>\n",
       "      <th>age</th>\n",
       "      <th>currentSmoker</th>\n",
       "      <th>cigsPerDay</th>\n",
       "      <th>prevalentStroke</th>\n",
       "      <th>prevalentHyp</th>\n",
       "      <th>diabetes</th>\n",
       "      <th>sysBP</th>\n",
       "      <th>diaBP</th>\n",
       "      <th>TenYearCHD</th>\n",
       "    </tr>\n",
       "  </thead>\n",
       "  <tbody>\n",
       "    <tr>\n",
       "      <th>0</th>\n",
       "      <td>1</td>\n",
       "      <td>39</td>\n",
       "      <td>0</td>\n",
       "      <td>0.0</td>\n",
       "      <td>0</td>\n",
       "      <td>0</td>\n",
       "      <td>0</td>\n",
       "      <td>106.0</td>\n",
       "      <td>70.0</td>\n",
       "      <td>0</td>\n",
       "    </tr>\n",
       "    <tr>\n",
       "      <th>1</th>\n",
       "      <td>0</td>\n",
       "      <td>46</td>\n",
       "      <td>0</td>\n",
       "      <td>0.0</td>\n",
       "      <td>0</td>\n",
       "      <td>0</td>\n",
       "      <td>0</td>\n",
       "      <td>121.0</td>\n",
       "      <td>81.0</td>\n",
       "      <td>0</td>\n",
       "    </tr>\n",
       "    <tr>\n",
       "      <th>2</th>\n",
       "      <td>1</td>\n",
       "      <td>48</td>\n",
       "      <td>1</td>\n",
       "      <td>20.0</td>\n",
       "      <td>0</td>\n",
       "      <td>0</td>\n",
       "      <td>0</td>\n",
       "      <td>127.5</td>\n",
       "      <td>80.0</td>\n",
       "      <td>0</td>\n",
       "    </tr>\n",
       "    <tr>\n",
       "      <th>3</th>\n",
       "      <td>0</td>\n",
       "      <td>61</td>\n",
       "      <td>1</td>\n",
       "      <td>30.0</td>\n",
       "      <td>0</td>\n",
       "      <td>1</td>\n",
       "      <td>0</td>\n",
       "      <td>150.0</td>\n",
       "      <td>95.0</td>\n",
       "      <td>1</td>\n",
       "    </tr>\n",
       "    <tr>\n",
       "      <th>4</th>\n",
       "      <td>0</td>\n",
       "      <td>46</td>\n",
       "      <td>1</td>\n",
       "      <td>23.0</td>\n",
       "      <td>0</td>\n",
       "      <td>0</td>\n",
       "      <td>0</td>\n",
       "      <td>130.0</td>\n",
       "      <td>84.0</td>\n",
       "      <td>0</td>\n",
       "    </tr>\n",
       "  </tbody>\n",
       "</table>\n",
       "</div>"
      ],
      "text/plain": [
       "   male  age  currentSmoker  cigsPerDay  prevalentStroke  prevalentHyp  \\\n",
       "0     1   39              0         0.0                0             0   \n",
       "1     0   46              0         0.0                0             0   \n",
       "2     1   48              1        20.0                0             0   \n",
       "3     0   61              1        30.0                0             1   \n",
       "4     0   46              1        23.0                0             0   \n",
       "\n",
       "   diabetes  sysBP  diaBP  TenYearCHD  \n",
       "0         0  106.0   70.0           0  \n",
       "1         0  121.0   81.0           0  \n",
       "2         0  127.5   80.0           0  \n",
       "3         0  150.0   95.0           1  \n",
       "4         0  130.0   84.0           0  "
      ]
     },
     "execution_count": 5,
     "metadata": {},
     "output_type": "execute_result"
    }
   ],
   "source": [
    "data = dataset.drop(['education','BPMeds','totChol','BMI','glucose','heartRate' ], axis = 'columns')\n",
    "data.head()"
   ]
  },
  {
   "cell_type": "code",
   "execution_count": 6,
   "metadata": {
    "execution": {
     "iopub.execute_input": "2020-10-04T17:46:51.715113Z",
     "iopub.status.busy": "2020-10-04T17:46:51.714026Z",
     "iopub.status.idle": "2020-10-04T17:46:51.717883Z",
     "shell.execute_reply": "2020-10-04T17:46:51.718629Z"
    },
    "papermill": {
     "duration": 0.049381,
     "end_time": "2020-10-04T17:46:51.718825",
     "exception": false,
     "start_time": "2020-10-04T17:46:51.669444",
     "status": "completed"
    },
    "tags": []
   },
   "outputs": [
    {
     "data": {
      "text/plain": [
       "0     0.0\n",
       "1     0.0\n",
       "2    20.0\n",
       "3    30.0\n",
       "4    23.0\n",
       "Name: cigsPerDay, dtype: float64"
      ]
     },
     "execution_count": 6,
     "metadata": {},
     "output_type": "execute_result"
    }
   ],
   "source": [
    "cigarettes = data['cigsPerDay']\n",
    "cigarettes.head()\n",
    "#cig = cigs.mean()"
   ]
  },
  {
   "cell_type": "code",
   "execution_count": 7,
   "metadata": {
    "execution": {
     "iopub.execute_input": "2020-10-04T17:46:51.775025Z",
     "iopub.status.busy": "2020-10-04T17:46:51.773742Z",
     "iopub.status.idle": "2020-10-04T17:46:51.777829Z",
     "shell.execute_reply": "2020-10-04T17:46:51.783530Z"
    },
    "papermill": {
     "duration": 0.039709,
     "end_time": "2020-10-04T17:46:51.784177",
     "exception": false,
     "start_time": "2020-10-04T17:46:51.744468",
     "status": "completed"
    },
    "tags": []
   },
   "outputs": [],
   "source": [
    "cig = cigarettes.mean()"
   ]
  },
  {
   "cell_type": "code",
   "execution_count": 8,
   "metadata": {
    "execution": {
     "iopub.execute_input": "2020-10-04T17:46:51.871359Z",
     "iopub.status.busy": "2020-10-04T17:46:51.870332Z",
     "iopub.status.idle": "2020-10-04T17:46:51.876491Z",
     "shell.execute_reply": "2020-10-04T17:46:51.877274Z"
    },
    "papermill": {
     "duration": 0.040968,
     "end_time": "2020-10-04T17:46:51.877486",
     "exception": false,
     "start_time": "2020-10-04T17:46:51.836518",
     "status": "completed"
    },
    "tags": []
   },
   "outputs": [
    {
     "data": {
      "text/plain": [
       "9"
      ]
     },
     "execution_count": 8,
     "metadata": {},
     "output_type": "execute_result"
    }
   ],
   "source": [
    "import math\n",
    "integer_value = math.floor(cig)\n",
    "integer_value"
   ]
  },
  {
   "cell_type": "code",
   "execution_count": 9,
   "metadata": {
    "execution": {
     "iopub.execute_input": "2020-10-04T17:46:51.945593Z",
     "iopub.status.busy": "2020-10-04T17:46:51.944447Z",
     "iopub.status.idle": "2020-10-04T17:46:51.952936Z",
     "shell.execute_reply": "2020-10-04T17:46:51.952345Z"
    },
    "papermill": {
     "duration": 0.043271,
     "end_time": "2020-10-04T17:46:51.953063",
     "exception": false,
     "start_time": "2020-10-04T17:46:51.909792",
     "status": "completed"
    },
    "tags": []
   },
   "outputs": [
    {
     "data": {
      "text/plain": [
       "male               0\n",
       "age                0\n",
       "currentSmoker      0\n",
       "cigsPerDay         0\n",
       "prevalentStroke    0\n",
       "prevalentHyp       0\n",
       "diabetes           0\n",
       "sysBP              0\n",
       "diaBP              0\n",
       "TenYearCHD         0\n",
       "dtype: int64"
      ]
     },
     "execution_count": 9,
     "metadata": {},
     "output_type": "execute_result"
    }
   ],
   "source": [
    "cigarettes.fillna(integer_value, inplace = True)\n",
    "#hr.fillna(integer_value, inplace = True)\n",
    "data.isnull().sum()"
   ]
  },
  {
   "cell_type": "code",
   "execution_count": 10,
   "metadata": {
    "execution": {
     "iopub.execute_input": "2020-10-04T17:46:52.010834Z",
     "iopub.status.busy": "2020-10-04T17:46:52.009838Z",
     "iopub.status.idle": "2020-10-04T17:46:52.013659Z",
     "shell.execute_reply": "2020-10-04T17:46:52.014390Z"
    },
    "papermill": {
     "duration": 0.037534,
     "end_time": "2020-10-04T17:46:52.014552",
     "exception": false,
     "start_time": "2020-10-04T17:46:51.977018",
     "status": "completed"
    },
    "tags": []
   },
   "outputs": [
    {
     "name": "stdout",
     "output_type": "stream",
     "text": [
      "[[39  0]\n",
      " [46  0]\n",
      " [48  1]\n",
      " [61  1]\n",
      " [46  1]]\n",
      "[0 0 0 1 0]\n"
     ]
    }
   ],
   "source": [
    "#this data is labeled data\n",
    "#independent variable (X) will be Age, Estimated Salary\n",
    "#dependent variable(y) will be Purcahsed (It will be lable)\n",
    "\n",
    "#define X,y\n",
    "X = dataset.iloc[:, [ 1, 3]].values\n",
    "y = dataset.iloc[:, 15].values\n",
    "\n",
    "#print X,y\n",
    "print(X[:5, :])\n",
    "print(y[:5])"
   ]
  },
  {
   "cell_type": "code",
   "execution_count": 11,
   "metadata": {
    "execution": {
     "iopub.execute_input": "2020-10-04T17:46:52.092525Z",
     "iopub.status.busy": "2020-10-04T17:46:52.091662Z",
     "iopub.status.idle": "2020-10-04T17:46:53.698590Z",
     "shell.execute_reply": "2020-10-04T17:46:53.696311Z"
    },
    "papermill": {
     "duration": 1.649857,
     "end_time": "2020-10-04T17:46:53.698736",
     "exception": false,
     "start_time": "2020-10-04T17:46:52.048879",
     "status": "completed"
    },
    "tags": []
   },
   "outputs": [
    {
     "name": "stdout",
     "output_type": "stream",
     "text": [
      "[[60  0]\n",
      " [42  1]\n",
      " [60  1]\n",
      " [67  0]\n",
      " [51  0]] \n",
      " \n",
      " [0 0 1 1 0] \n",
      " \n",
      " [[47  0]\n",
      " [58  0]\n",
      " [61  1]\n",
      " [45  0]\n",
      " [57  0]] \n",
      " \n",
      " [0 0 0 0 0]\n"
     ]
    }
   ],
   "source": [
    "#import train_test_split from sklearn to train and test our data\n",
    "from sklearn.model_selection import train_test_split \n",
    "#define \n",
    "X_train, X_test, y_train, y_test = train_test_split(X, y, test_size = 0.25, random_state = 0)\n",
    "\n",
    "#print\n",
    "print(X_train[:5],'\\n', '\\n', y_train[:5],'\\n','\\n', X_test[:5],'\\n','\\n', y_test[:5])"
   ]
  },
  {
   "cell_type": "code",
   "execution_count": 12,
   "metadata": {
    "execution": {
     "iopub.execute_input": "2020-10-04T17:46:53.764800Z",
     "iopub.status.busy": "2020-10-04T17:46:53.763600Z",
     "iopub.status.idle": "2020-10-04T17:46:53.815495Z",
     "shell.execute_reply": "2020-10-04T17:46:53.814504Z"
    },
    "papermill": {
     "duration": 0.089651,
     "end_time": "2020-10-04T17:46:53.815698",
     "exception": false,
     "start_time": "2020-10-04T17:46:53.726047",
     "status": "completed"
    },
    "tags": []
   },
   "outputs": [
    {
     "data": {
      "text/html": [
       "<div>\n",
       "<style scoped>\n",
       "    .dataframe tbody tr th:only-of-type {\n",
       "        vertical-align: middle;\n",
       "    }\n",
       "\n",
       "    .dataframe tbody tr th {\n",
       "        vertical-align: top;\n",
       "    }\n",
       "\n",
       "    .dataframe thead th {\n",
       "        text-align: right;\n",
       "    }\n",
       "</style>\n",
       "<table border=\"1\" class=\"dataframe\">\n",
       "  <thead>\n",
       "    <tr style=\"text-align: right;\">\n",
       "      <th></th>\n",
       "      <th>male</th>\n",
       "      <th>age</th>\n",
       "      <th>education</th>\n",
       "      <th>currentSmoker</th>\n",
       "      <th>cigsPerDay</th>\n",
       "      <th>BPMeds</th>\n",
       "      <th>prevalentStroke</th>\n",
       "      <th>prevalentHyp</th>\n",
       "      <th>diabetes</th>\n",
       "      <th>totChol</th>\n",
       "      <th>sysBP</th>\n",
       "      <th>diaBP</th>\n",
       "      <th>BMI</th>\n",
       "      <th>heartRate</th>\n",
       "      <th>glucose</th>\n",
       "      <th>TenYearCHD</th>\n",
       "    </tr>\n",
       "  </thead>\n",
       "  <tbody>\n",
       "    <tr>\n",
       "      <th>male</th>\n",
       "      <td>1.000000</td>\n",
       "      <td>-0.028979</td>\n",
       "      <td>0.017352</td>\n",
       "      <td>0.197596</td>\n",
       "      <td>0.317930</td>\n",
       "      <td>-0.052506</td>\n",
       "      <td>-0.004546</td>\n",
       "      <td>0.005313</td>\n",
       "      <td>0.015708</td>\n",
       "      <td>-0.070322</td>\n",
       "      <td>-0.035989</td>\n",
       "      <td>0.057933</td>\n",
       "      <td>0.081672</td>\n",
       "      <td>-0.116620</td>\n",
       "      <td>0.006083</td>\n",
       "      <td>0.088428</td>\n",
       "    </tr>\n",
       "    <tr>\n",
       "      <th>age</th>\n",
       "      <td>-0.028979</td>\n",
       "      <td>1.000000</td>\n",
       "      <td>-0.165883</td>\n",
       "      <td>-0.213748</td>\n",
       "      <td>-0.192791</td>\n",
       "      <td>0.122995</td>\n",
       "      <td>0.057655</td>\n",
       "      <td>0.307194</td>\n",
       "      <td>0.101258</td>\n",
       "      <td>0.262131</td>\n",
       "      <td>0.394302</td>\n",
       "      <td>0.206104</td>\n",
       "      <td>0.135800</td>\n",
       "      <td>-0.012823</td>\n",
       "      <td>0.122256</td>\n",
       "      <td>0.225256</td>\n",
       "    </tr>\n",
       "    <tr>\n",
       "      <th>education</th>\n",
       "      <td>0.017352</td>\n",
       "      <td>-0.165883</td>\n",
       "      <td>1.000000</td>\n",
       "      <td>0.018532</td>\n",
       "      <td>0.008085</td>\n",
       "      <td>-0.010815</td>\n",
       "      <td>-0.035112</td>\n",
       "      <td>-0.081970</td>\n",
       "      <td>-0.038680</td>\n",
       "      <td>-0.023115</td>\n",
       "      <td>-0.129631</td>\n",
       "      <td>-0.062316</td>\n",
       "      <td>-0.137504</td>\n",
       "      <td>-0.054206</td>\n",
       "      <td>-0.035721</td>\n",
       "      <td>-0.054059</td>\n",
       "    </tr>\n",
       "    <tr>\n",
       "      <th>currentSmoker</th>\n",
       "      <td>0.197596</td>\n",
       "      <td>-0.213748</td>\n",
       "      <td>0.018532</td>\n",
       "      <td>1.000000</td>\n",
       "      <td>0.769690</td>\n",
       "      <td>-0.048938</td>\n",
       "      <td>-0.032988</td>\n",
       "      <td>-0.103260</td>\n",
       "      <td>-0.044295</td>\n",
       "      <td>-0.046562</td>\n",
       "      <td>-0.130230</td>\n",
       "      <td>-0.107746</td>\n",
       "      <td>-0.167650</td>\n",
       "      <td>0.062356</td>\n",
       "      <td>-0.056826</td>\n",
       "      <td>0.019456</td>\n",
       "    </tr>\n",
       "    <tr>\n",
       "      <th>cigsPerDay</th>\n",
       "      <td>0.317930</td>\n",
       "      <td>-0.192791</td>\n",
       "      <td>0.008085</td>\n",
       "      <td>0.769690</td>\n",
       "      <td>1.000000</td>\n",
       "      <td>-0.046134</td>\n",
       "      <td>-0.032707</td>\n",
       "      <td>-0.066146</td>\n",
       "      <td>-0.037067</td>\n",
       "      <td>-0.026320</td>\n",
       "      <td>-0.088780</td>\n",
       "      <td>-0.056632</td>\n",
       "      <td>-0.092856</td>\n",
       "      <td>0.075157</td>\n",
       "      <td>-0.058960</td>\n",
       "      <td>0.057884</td>\n",
       "    </tr>\n",
       "    <tr>\n",
       "      <th>BPMeds</th>\n",
       "      <td>-0.052506</td>\n",
       "      <td>0.122995</td>\n",
       "      <td>-0.010815</td>\n",
       "      <td>-0.048938</td>\n",
       "      <td>-0.046134</td>\n",
       "      <td>1.000000</td>\n",
       "      <td>0.117365</td>\n",
       "      <td>0.261187</td>\n",
       "      <td>0.052047</td>\n",
       "      <td>0.080558</td>\n",
       "      <td>0.254219</td>\n",
       "      <td>0.194227</td>\n",
       "      <td>0.100668</td>\n",
       "      <td>0.015233</td>\n",
       "      <td>0.051176</td>\n",
       "      <td>0.087489</td>\n",
       "    </tr>\n",
       "    <tr>\n",
       "      <th>prevalentStroke</th>\n",
       "      <td>-0.004546</td>\n",
       "      <td>0.057655</td>\n",
       "      <td>-0.035112</td>\n",
       "      <td>-0.032988</td>\n",
       "      <td>-0.032707</td>\n",
       "      <td>0.117365</td>\n",
       "      <td>1.000000</td>\n",
       "      <td>0.074830</td>\n",
       "      <td>0.006949</td>\n",
       "      <td>0.000067</td>\n",
       "      <td>0.057009</td>\n",
       "      <td>0.045190</td>\n",
       "      <td>0.025891</td>\n",
       "      <td>-0.017676</td>\n",
       "      <td>0.018431</td>\n",
       "      <td>0.061810</td>\n",
       "    </tr>\n",
       "    <tr>\n",
       "      <th>prevalentHyp</th>\n",
       "      <td>0.005313</td>\n",
       "      <td>0.307194</td>\n",
       "      <td>-0.081970</td>\n",
       "      <td>-0.103260</td>\n",
       "      <td>-0.066146</td>\n",
       "      <td>0.261187</td>\n",
       "      <td>0.074830</td>\n",
       "      <td>1.000000</td>\n",
       "      <td>0.077808</td>\n",
       "      <td>0.163993</td>\n",
       "      <td>0.696755</td>\n",
       "      <td>0.615751</td>\n",
       "      <td>0.301318</td>\n",
       "      <td>0.147261</td>\n",
       "      <td>0.086834</td>\n",
       "      <td>0.177603</td>\n",
       "    </tr>\n",
       "    <tr>\n",
       "      <th>diabetes</th>\n",
       "      <td>0.015708</td>\n",
       "      <td>0.101258</td>\n",
       "      <td>-0.038680</td>\n",
       "      <td>-0.044295</td>\n",
       "      <td>-0.037067</td>\n",
       "      <td>0.052047</td>\n",
       "      <td>0.006949</td>\n",
       "      <td>0.077808</td>\n",
       "      <td>1.000000</td>\n",
       "      <td>0.040278</td>\n",
       "      <td>0.111283</td>\n",
       "      <td>0.050329</td>\n",
       "      <td>0.087036</td>\n",
       "      <td>0.048994</td>\n",
       "      <td>0.617627</td>\n",
       "      <td>0.097317</td>\n",
       "    </tr>\n",
       "    <tr>\n",
       "      <th>totChol</th>\n",
       "      <td>-0.070322</td>\n",
       "      <td>0.262131</td>\n",
       "      <td>-0.023115</td>\n",
       "      <td>-0.046562</td>\n",
       "      <td>-0.026320</td>\n",
       "      <td>0.080558</td>\n",
       "      <td>0.000067</td>\n",
       "      <td>0.163993</td>\n",
       "      <td>0.040278</td>\n",
       "      <td>1.000000</td>\n",
       "      <td>0.208908</td>\n",
       "      <td>0.165182</td>\n",
       "      <td>0.115767</td>\n",
       "      <td>0.091125</td>\n",
       "      <td>0.046408</td>\n",
       "      <td>0.082184</td>\n",
       "    </tr>\n",
       "    <tr>\n",
       "      <th>sysBP</th>\n",
       "      <td>-0.035989</td>\n",
       "      <td>0.394302</td>\n",
       "      <td>-0.129631</td>\n",
       "      <td>-0.130230</td>\n",
       "      <td>-0.088780</td>\n",
       "      <td>0.254219</td>\n",
       "      <td>0.057009</td>\n",
       "      <td>0.696755</td>\n",
       "      <td>0.111283</td>\n",
       "      <td>0.208908</td>\n",
       "      <td>1.000000</td>\n",
       "      <td>0.784002</td>\n",
       "      <td>0.326981</td>\n",
       "      <td>0.182246</td>\n",
       "      <td>0.140621</td>\n",
       "      <td>0.216429</td>\n",
       "    </tr>\n",
       "    <tr>\n",
       "      <th>diaBP</th>\n",
       "      <td>0.057933</td>\n",
       "      <td>0.206104</td>\n",
       "      <td>-0.062316</td>\n",
       "      <td>-0.107746</td>\n",
       "      <td>-0.056632</td>\n",
       "      <td>0.194227</td>\n",
       "      <td>0.045190</td>\n",
       "      <td>0.615751</td>\n",
       "      <td>0.050329</td>\n",
       "      <td>0.165182</td>\n",
       "      <td>0.784002</td>\n",
       "      <td>1.000000</td>\n",
       "      <td>0.377588</td>\n",
       "      <td>0.181255</td>\n",
       "      <td>0.061231</td>\n",
       "      <td>0.145299</td>\n",
       "    </tr>\n",
       "    <tr>\n",
       "      <th>BMI</th>\n",
       "      <td>0.081672</td>\n",
       "      <td>0.135800</td>\n",
       "      <td>-0.137504</td>\n",
       "      <td>-0.167650</td>\n",
       "      <td>-0.092856</td>\n",
       "      <td>0.100668</td>\n",
       "      <td>0.025891</td>\n",
       "      <td>0.301318</td>\n",
       "      <td>0.087036</td>\n",
       "      <td>0.115767</td>\n",
       "      <td>0.326981</td>\n",
       "      <td>0.377588</td>\n",
       "      <td>1.000000</td>\n",
       "      <td>0.067678</td>\n",
       "      <td>0.087377</td>\n",
       "      <td>0.075192</td>\n",
       "    </tr>\n",
       "    <tr>\n",
       "      <th>heartRate</th>\n",
       "      <td>-0.116620</td>\n",
       "      <td>-0.012823</td>\n",
       "      <td>-0.054206</td>\n",
       "      <td>0.062356</td>\n",
       "      <td>0.075157</td>\n",
       "      <td>0.015233</td>\n",
       "      <td>-0.017676</td>\n",
       "      <td>0.147261</td>\n",
       "      <td>0.048994</td>\n",
       "      <td>0.091125</td>\n",
       "      <td>0.182246</td>\n",
       "      <td>0.181255</td>\n",
       "      <td>0.067678</td>\n",
       "      <td>1.000000</td>\n",
       "      <td>0.094500</td>\n",
       "      <td>0.022913</td>\n",
       "    </tr>\n",
       "    <tr>\n",
       "      <th>glucose</th>\n",
       "      <td>0.006083</td>\n",
       "      <td>0.122256</td>\n",
       "      <td>-0.035721</td>\n",
       "      <td>-0.056826</td>\n",
       "      <td>-0.058960</td>\n",
       "      <td>0.051176</td>\n",
       "      <td>0.018431</td>\n",
       "      <td>0.086834</td>\n",
       "      <td>0.617627</td>\n",
       "      <td>0.046408</td>\n",
       "      <td>0.140621</td>\n",
       "      <td>0.061231</td>\n",
       "      <td>0.087377</td>\n",
       "      <td>0.094500</td>\n",
       "      <td>1.000000</td>\n",
       "      <td>0.125544</td>\n",
       "    </tr>\n",
       "    <tr>\n",
       "      <th>TenYearCHD</th>\n",
       "      <td>0.088428</td>\n",
       "      <td>0.225256</td>\n",
       "      <td>-0.054059</td>\n",
       "      <td>0.019456</td>\n",
       "      <td>0.057884</td>\n",
       "      <td>0.087489</td>\n",
       "      <td>0.061810</td>\n",
       "      <td>0.177603</td>\n",
       "      <td>0.097317</td>\n",
       "      <td>0.082184</td>\n",
       "      <td>0.216429</td>\n",
       "      <td>0.145299</td>\n",
       "      <td>0.075192</td>\n",
       "      <td>0.022913</td>\n",
       "      <td>0.125544</td>\n",
       "      <td>1.000000</td>\n",
       "    </tr>\n",
       "  </tbody>\n",
       "</table>\n",
       "</div>"
      ],
      "text/plain": [
       "                     male       age  education  currentSmoker  cigsPerDay  \\\n",
       "male             1.000000 -0.028979   0.017352       0.197596    0.317930   \n",
       "age             -0.028979  1.000000  -0.165883      -0.213748   -0.192791   \n",
       "education        0.017352 -0.165883   1.000000       0.018532    0.008085   \n",
       "currentSmoker    0.197596 -0.213748   0.018532       1.000000    0.769690   \n",
       "cigsPerDay       0.317930 -0.192791   0.008085       0.769690    1.000000   \n",
       "BPMeds          -0.052506  0.122995  -0.010815      -0.048938   -0.046134   \n",
       "prevalentStroke -0.004546  0.057655  -0.035112      -0.032988   -0.032707   \n",
       "prevalentHyp     0.005313  0.307194  -0.081970      -0.103260   -0.066146   \n",
       "diabetes         0.015708  0.101258  -0.038680      -0.044295   -0.037067   \n",
       "totChol         -0.070322  0.262131  -0.023115      -0.046562   -0.026320   \n",
       "sysBP           -0.035989  0.394302  -0.129631      -0.130230   -0.088780   \n",
       "diaBP            0.057933  0.206104  -0.062316      -0.107746   -0.056632   \n",
       "BMI              0.081672  0.135800  -0.137504      -0.167650   -0.092856   \n",
       "heartRate       -0.116620 -0.012823  -0.054206       0.062356    0.075157   \n",
       "glucose          0.006083  0.122256  -0.035721      -0.056826   -0.058960   \n",
       "TenYearCHD       0.088428  0.225256  -0.054059       0.019456    0.057884   \n",
       "\n",
       "                   BPMeds  prevalentStroke  prevalentHyp  diabetes   totChol  \\\n",
       "male            -0.052506        -0.004546      0.005313  0.015708 -0.070322   \n",
       "age              0.122995         0.057655      0.307194  0.101258  0.262131   \n",
       "education       -0.010815        -0.035112     -0.081970 -0.038680 -0.023115   \n",
       "currentSmoker   -0.048938        -0.032988     -0.103260 -0.044295 -0.046562   \n",
       "cigsPerDay      -0.046134        -0.032707     -0.066146 -0.037067 -0.026320   \n",
       "BPMeds           1.000000         0.117365      0.261187  0.052047  0.080558   \n",
       "prevalentStroke  0.117365         1.000000      0.074830  0.006949  0.000067   \n",
       "prevalentHyp     0.261187         0.074830      1.000000  0.077808  0.163993   \n",
       "diabetes         0.052047         0.006949      0.077808  1.000000  0.040278   \n",
       "totChol          0.080558         0.000067      0.163993  0.040278  1.000000   \n",
       "sysBP            0.254219         0.057009      0.696755  0.111283  0.208908   \n",
       "diaBP            0.194227         0.045190      0.615751  0.050329  0.165182   \n",
       "BMI              0.100668         0.025891      0.301318  0.087036  0.115767   \n",
       "heartRate        0.015233        -0.017676      0.147261  0.048994  0.091125   \n",
       "glucose          0.051176         0.018431      0.086834  0.617627  0.046408   \n",
       "TenYearCHD       0.087489         0.061810      0.177603  0.097317  0.082184   \n",
       "\n",
       "                    sysBP     diaBP       BMI  heartRate   glucose  TenYearCHD  \n",
       "male            -0.035989  0.057933  0.081672  -0.116620  0.006083    0.088428  \n",
       "age              0.394302  0.206104  0.135800  -0.012823  0.122256    0.225256  \n",
       "education       -0.129631 -0.062316 -0.137504  -0.054206 -0.035721   -0.054059  \n",
       "currentSmoker   -0.130230 -0.107746 -0.167650   0.062356 -0.056826    0.019456  \n",
       "cigsPerDay      -0.088780 -0.056632 -0.092856   0.075157 -0.058960    0.057884  \n",
       "BPMeds           0.254219  0.194227  0.100668   0.015233  0.051176    0.087489  \n",
       "prevalentStroke  0.057009  0.045190  0.025891  -0.017676  0.018431    0.061810  \n",
       "prevalentHyp     0.696755  0.615751  0.301318   0.147261  0.086834    0.177603  \n",
       "diabetes         0.111283  0.050329  0.087036   0.048994  0.617627    0.097317  \n",
       "totChol          0.208908  0.165182  0.115767   0.091125  0.046408    0.082184  \n",
       "sysBP            1.000000  0.784002  0.326981   0.182246  0.140621    0.216429  \n",
       "diaBP            0.784002  1.000000  0.377588   0.181255  0.061231    0.145299  \n",
       "BMI              0.326981  0.377588  1.000000   0.067678  0.087377    0.075192  \n",
       "heartRate        0.182246  0.181255  0.067678   1.000000  0.094500    0.022913  \n",
       "glucose          0.140621  0.061231  0.087377   0.094500  1.000000    0.125544  \n",
       "TenYearCHD       0.216429  0.145299  0.075192   0.022913  0.125544    1.000000  "
      ]
     },
     "execution_count": 12,
     "metadata": {},
     "output_type": "execute_result"
    }
   ],
   "source": [
    "#dataset.info()\n",
    "#check corelation among attributes of dataset \n",
    "dataset.corr()"
   ]
  },
  {
   "cell_type": "code",
   "execution_count": 13,
   "metadata": {
    "execution": {
     "iopub.execute_input": "2020-10-04T17:46:53.898802Z",
     "iopub.status.busy": "2020-10-04T17:46:53.897574Z",
     "iopub.status.idle": "2020-10-04T17:46:53.905164Z",
     "shell.execute_reply": "2020-10-04T17:46:53.904241Z"
    },
    "papermill": {
     "duration": 0.053444,
     "end_time": "2020-10-04T17:46:53.905376",
     "exception": false,
     "start_time": "2020-10-04T17:46:53.851932",
     "status": "completed"
    },
    "tags": []
   },
   "outputs": [],
   "source": [
    "#normalization and feature scaling\n",
    "from sklearn.preprocessing import StandardScaler\n",
    "sc_X = StandardScaler()\n",
    "X_train = sc_X.fit_transform(X_train)\n",
    "X_test = sc_X.transform(X_test)"
   ]
  },
  {
   "cell_type": "code",
   "execution_count": 14,
   "metadata": {
    "execution": {
     "iopub.execute_input": "2020-10-04T17:46:53.976562Z",
     "iopub.status.busy": "2020-10-04T17:46:53.975426Z",
     "iopub.status.idle": "2020-10-04T17:46:53.979423Z",
     "shell.execute_reply": "2020-10-04T17:46:53.980137Z"
    },
    "papermill": {
     "duration": 0.044884,
     "end_time": "2020-10-04T17:46:53.980297",
     "exception": false,
     "start_time": "2020-10-04T17:46:53.935413",
     "status": "completed"
    },
    "tags": []
   },
   "outputs": [
    {
     "name": "stdout",
     "output_type": "stream",
     "text": [
      "[[ 1.21793504 -1.00694672]\n",
      " [-0.88304973  0.9931012 ]\n",
      " [ 1.21793504  0.9931012 ]\n",
      " [ 2.03498468 -1.00694672]\n",
      " [ 0.16744265 -1.00694672]] \n",
      " \n",
      " [[-0.29944285 -1.00694672]\n",
      " [ 0.98449229 -1.00694672]\n",
      " [ 1.33465642  0.9931012 ]\n",
      " [-0.5328856  -1.00694672]\n",
      " [ 0.86777091 -1.00694672]]\n"
     ]
    }
   ],
   "source": [
    "print(X_train[:5], '\\n','\\n', X_test[:5])"
   ]
  },
  {
   "cell_type": "code",
   "execution_count": 15,
   "metadata": {
    "execution": {
     "iopub.execute_input": "2020-10-04T17:46:54.043756Z",
     "iopub.status.busy": "2020-10-04T17:46:54.042808Z",
     "iopub.status.idle": "2020-10-04T17:46:54.235646Z",
     "shell.execute_reply": "2020-10-04T17:46:54.234566Z"
    },
    "papermill": {
     "duration": 0.227546,
     "end_time": "2020-10-04T17:46:54.235997",
     "exception": false,
     "start_time": "2020-10-04T17:46:54.008451",
     "status": "completed"
    },
    "tags": []
   },
   "outputs": [
    {
     "name": "stdout",
     "output_type": "stream",
     "text": [
      "[[-0.29944285 -1.00694672]\n",
      " [ 0.98449229 -1.00694672]\n",
      " [ 1.33465642  0.9931012 ]\n",
      " [-0.5328856  -1.00694672]\n",
      " [ 0.86777091 -1.00694672]] \n",
      " \n",
      " [0 0 0 0 0]\n"
     ]
    }
   ],
   "source": [
    "#create object of LogisticRegression class to refer as classifier\n",
    "from sklearn.linear_model import LogisticRegression\n",
    "\n",
    "classifier = LogisticRegression(random_state = 0)\n",
    "classifier.fit(X_train, y_train)\n",
    "y_pred = classifier.predict(X_test)\n",
    "\n",
    "print(X_test[:5], '\\n', '\\n', y_pred[:5])"
   ]
  },
  {
   "cell_type": "code",
   "execution_count": 16,
   "metadata": {
    "execution": {
     "iopub.execute_input": "2020-10-04T17:46:54.310368Z",
     "iopub.status.busy": "2020-10-04T17:46:54.309345Z",
     "iopub.status.idle": "2020-10-04T17:46:54.313877Z",
     "shell.execute_reply": "2020-10-04T17:46:54.312976Z"
    },
    "papermill": {
     "duration": 0.045065,
     "end_time": "2020-10-04T17:46:54.314046",
     "exception": false,
     "start_time": "2020-10-04T17:46:54.268981",
     "status": "completed"
    },
    "tags": []
   },
   "outputs": [
    {
     "name": "stdout",
     "output_type": "stream",
     "text": [
      "[0 0 0 0 0 0 0 0 0 0 0 0] \n",
      " \n",
      " [0 0 0 0 0 0 0 0 0 0 0 1]\n"
     ]
    }
   ],
   "source": [
    "print(y_pred[:12],'\\n','\\n',y_test[:12])"
   ]
  },
  {
   "cell_type": "code",
   "execution_count": 17,
   "metadata": {
    "execution": {
     "iopub.execute_input": "2020-10-04T17:46:54.397564Z",
     "iopub.status.busy": "2020-10-04T17:46:54.396677Z",
     "iopub.status.idle": "2020-10-04T17:46:54.405988Z",
     "shell.execute_reply": "2020-10-04T17:46:54.405061Z"
    },
    "papermill": {
     "duration": 0.053689,
     "end_time": "2020-10-04T17:46:54.406158",
     "exception": false,
     "start_time": "2020-10-04T17:46:54.352469",
     "status": "completed"
    },
    "tags": []
   },
   "outputs": [
    {
     "name": "stdout",
     "output_type": "stream",
     "text": [
      "[[890   0]\n",
      " [170   0]]\n"
     ]
    }
   ],
   "source": [
    "#probability is 11/12 i.e 91.66% so, good to go\n",
    "\n",
    "#we'll use a Confusion Matrix to evaluate exactly how accurate our Logistic Regression model is,\n",
    "#the more the matching values, more is the accuracy\n",
    "\n",
    "from sklearn.metrics import confusion_matrix\n",
    "matrix = confusion_matrix(y_test, y_pred)\n",
    "print(matrix)"
   ]
  },
  {
   "cell_type": "code",
   "execution_count": 18,
   "metadata": {
    "execution": {
     "iopub.execute_input": "2020-10-04T17:46:54.502723Z",
     "iopub.status.busy": "2020-10-04T17:46:54.501752Z",
     "iopub.status.idle": "2020-10-04T17:46:54.507392Z",
     "shell.execute_reply": "2020-10-04T17:46:54.506704Z"
    },
    "papermill": {
     "duration": 0.067743,
     "end_time": "2020-10-04T17:46:54.507622",
     "exception": false,
     "start_time": "2020-10-04T17:46:54.439879",
     "status": "completed"
    },
    "tags": []
   },
   "outputs": [
    {
     "data": {
      "text/html": [
       "<div>\n",
       "<style scoped>\n",
       "    .dataframe tbody tr th:only-of-type {\n",
       "        vertical-align: middle;\n",
       "    }\n",
       "\n",
       "    .dataframe tbody tr th {\n",
       "        vertical-align: top;\n",
       "    }\n",
       "\n",
       "    .dataframe thead th {\n",
       "        text-align: right;\n",
       "    }\n",
       "</style>\n",
       "<table border=\"1\" class=\"dataframe\">\n",
       "  <thead>\n",
       "    <tr style=\"text-align: right;\">\n",
       "      <th></th>\n",
       "      <th>male</th>\n",
       "      <th>age</th>\n",
       "      <th>currentSmoker</th>\n",
       "      <th>cigsPerDay</th>\n",
       "      <th>prevalentStroke</th>\n",
       "      <th>prevalentHyp</th>\n",
       "      <th>diabetes</th>\n",
       "      <th>sysBP</th>\n",
       "      <th>diaBP</th>\n",
       "    </tr>\n",
       "  </thead>\n",
       "  <tbody>\n",
       "    <tr>\n",
       "      <th>0</th>\n",
       "      <td>1</td>\n",
       "      <td>39</td>\n",
       "      <td>0</td>\n",
       "      <td>0.0</td>\n",
       "      <td>0</td>\n",
       "      <td>0</td>\n",
       "      <td>0</td>\n",
       "      <td>106.0</td>\n",
       "      <td>70.0</td>\n",
       "    </tr>\n",
       "    <tr>\n",
       "      <th>1</th>\n",
       "      <td>0</td>\n",
       "      <td>46</td>\n",
       "      <td>0</td>\n",
       "      <td>0.0</td>\n",
       "      <td>0</td>\n",
       "      <td>0</td>\n",
       "      <td>0</td>\n",
       "      <td>121.0</td>\n",
       "      <td>81.0</td>\n",
       "    </tr>\n",
       "    <tr>\n",
       "      <th>2</th>\n",
       "      <td>1</td>\n",
       "      <td>48</td>\n",
       "      <td>1</td>\n",
       "      <td>20.0</td>\n",
       "      <td>0</td>\n",
       "      <td>0</td>\n",
       "      <td>0</td>\n",
       "      <td>127.5</td>\n",
       "      <td>80.0</td>\n",
       "    </tr>\n",
       "    <tr>\n",
       "      <th>3</th>\n",
       "      <td>0</td>\n",
       "      <td>61</td>\n",
       "      <td>1</td>\n",
       "      <td>30.0</td>\n",
       "      <td>0</td>\n",
       "      <td>1</td>\n",
       "      <td>0</td>\n",
       "      <td>150.0</td>\n",
       "      <td>95.0</td>\n",
       "    </tr>\n",
       "    <tr>\n",
       "      <th>4</th>\n",
       "      <td>0</td>\n",
       "      <td>46</td>\n",
       "      <td>1</td>\n",
       "      <td>23.0</td>\n",
       "      <td>0</td>\n",
       "      <td>0</td>\n",
       "      <td>0</td>\n",
       "      <td>130.0</td>\n",
       "      <td>84.0</td>\n",
       "    </tr>\n",
       "    <tr>\n",
       "      <th>...</th>\n",
       "      <td>...</td>\n",
       "      <td>...</td>\n",
       "      <td>...</td>\n",
       "      <td>...</td>\n",
       "      <td>...</td>\n",
       "      <td>...</td>\n",
       "      <td>...</td>\n",
       "      <td>...</td>\n",
       "      <td>...</td>\n",
       "    </tr>\n",
       "    <tr>\n",
       "      <th>4233</th>\n",
       "      <td>1</td>\n",
       "      <td>50</td>\n",
       "      <td>1</td>\n",
       "      <td>1.0</td>\n",
       "      <td>0</td>\n",
       "      <td>1</td>\n",
       "      <td>0</td>\n",
       "      <td>179.0</td>\n",
       "      <td>92.0</td>\n",
       "    </tr>\n",
       "    <tr>\n",
       "      <th>4234</th>\n",
       "      <td>1</td>\n",
       "      <td>51</td>\n",
       "      <td>1</td>\n",
       "      <td>43.0</td>\n",
       "      <td>0</td>\n",
       "      <td>0</td>\n",
       "      <td>0</td>\n",
       "      <td>126.5</td>\n",
       "      <td>80.0</td>\n",
       "    </tr>\n",
       "    <tr>\n",
       "      <th>4235</th>\n",
       "      <td>0</td>\n",
       "      <td>48</td>\n",
       "      <td>1</td>\n",
       "      <td>20.0</td>\n",
       "      <td>0</td>\n",
       "      <td>0</td>\n",
       "      <td>0</td>\n",
       "      <td>131.0</td>\n",
       "      <td>72.0</td>\n",
       "    </tr>\n",
       "    <tr>\n",
       "      <th>4236</th>\n",
       "      <td>0</td>\n",
       "      <td>44</td>\n",
       "      <td>1</td>\n",
       "      <td>15.0</td>\n",
       "      <td>0</td>\n",
       "      <td>0</td>\n",
       "      <td>0</td>\n",
       "      <td>126.5</td>\n",
       "      <td>87.0</td>\n",
       "    </tr>\n",
       "    <tr>\n",
       "      <th>4237</th>\n",
       "      <td>0</td>\n",
       "      <td>52</td>\n",
       "      <td>0</td>\n",
       "      <td>0.0</td>\n",
       "      <td>0</td>\n",
       "      <td>0</td>\n",
       "      <td>0</td>\n",
       "      <td>133.5</td>\n",
       "      <td>83.0</td>\n",
       "    </tr>\n",
       "  </tbody>\n",
       "</table>\n",
       "<p>4238 rows × 9 columns</p>\n",
       "</div>"
      ],
      "text/plain": [
       "      male  age  currentSmoker  cigsPerDay  prevalentStroke  prevalentHyp  \\\n",
       "0        1   39              0         0.0                0             0   \n",
       "1        0   46              0         0.0                0             0   \n",
       "2        1   48              1        20.0                0             0   \n",
       "3        0   61              1        30.0                0             1   \n",
       "4        0   46              1        23.0                0             0   \n",
       "...    ...  ...            ...         ...              ...           ...   \n",
       "4233     1   50              1         1.0                0             1   \n",
       "4234     1   51              1        43.0                0             0   \n",
       "4235     0   48              1        20.0                0             0   \n",
       "4236     0   44              1        15.0                0             0   \n",
       "4237     0   52              0         0.0                0             0   \n",
       "\n",
       "      diabetes  sysBP  diaBP  \n",
       "0            0  106.0   70.0  \n",
       "1            0  121.0   81.0  \n",
       "2            0  127.5   80.0  \n",
       "3            0  150.0   95.0  \n",
       "4            0  130.0   84.0  \n",
       "...        ...    ...    ...  \n",
       "4233         0  179.0   92.0  \n",
       "4234         0  126.5   80.0  \n",
       "4235         0  131.0   72.0  \n",
       "4236         0  126.5   87.0  \n",
       "4237         0  133.5   83.0  \n",
       "\n",
       "[4238 rows x 9 columns]"
      ]
     },
     "execution_count": 18,
     "metadata": {},
     "output_type": "execute_result"
    }
   ],
   "source": [
    "X = data[['male','age','currentSmoker','cigsPerDay','prevalentStroke','prevalentHyp','diabetes','sysBP','diaBP']]\n",
    "y =  data['TenYearCHD']\n",
    "X"
   ]
  },
  {
   "cell_type": "code",
   "execution_count": 19,
   "metadata": {
    "execution": {
     "iopub.execute_input": "2020-10-04T17:46:54.575890Z",
     "iopub.status.busy": "2020-10-04T17:46:54.574859Z",
     "iopub.status.idle": "2020-10-04T17:46:54.579175Z",
     "shell.execute_reply": "2020-10-04T17:46:54.579770Z"
    },
    "papermill": {
     "duration": 0.041968,
     "end_time": "2020-10-04T17:46:54.579921",
     "exception": false,
     "start_time": "2020-10-04T17:46:54.537953",
     "status": "completed"
    },
    "tags": []
   },
   "outputs": [
    {
     "data": {
      "text/plain": [
       "0       0\n",
       "1       0\n",
       "2       0\n",
       "3       1\n",
       "4       0\n",
       "       ..\n",
       "4233    1\n",
       "4234    0\n",
       "4235    0\n",
       "4236    0\n",
       "4237    0\n",
       "Name: TenYearCHD, Length: 4238, dtype: int64"
      ]
     },
     "execution_count": 19,
     "metadata": {},
     "output_type": "execute_result"
    }
   ],
   "source": [
    "y"
   ]
  },
  {
   "cell_type": "code",
   "execution_count": 20,
   "metadata": {
    "execution": {
     "iopub.execute_input": "2020-10-04T17:46:54.652878Z",
     "iopub.status.busy": "2020-10-04T17:46:54.651709Z",
     "iopub.status.idle": "2020-10-04T17:46:54.657455Z",
     "shell.execute_reply": "2020-10-04T17:46:54.656676Z"
    },
    "papermill": {
     "duration": 0.046741,
     "end_time": "2020-10-04T17:46:54.657587",
     "exception": false,
     "start_time": "2020-10-04T17:46:54.610846",
     "status": "completed"
    },
    "tags": []
   },
   "outputs": [],
   "source": [
    "from sklearn.model_selection import train_test_split\n",
    "X_train, X_test, y_train, y_test = train_test_split(X,y, test_size = 0.20, random_state = 99)\n",
    "\n",
    "from sklearn.linear_model import LogisticRegression\n",
    "model = LogisticRegression()"
   ]
  },
  {
   "cell_type": "code",
   "execution_count": 21,
   "metadata": {
    "execution": {
     "iopub.execute_input": "2020-10-04T17:46:54.730324Z",
     "iopub.status.busy": "2020-10-04T17:46:54.729490Z",
     "iopub.status.idle": "2020-10-04T17:46:54.833418Z",
     "shell.execute_reply": "2020-10-04T17:46:54.834142Z"
    },
    "papermill": {
     "duration": 0.145606,
     "end_time": "2020-10-04T17:46:54.834325",
     "exception": false,
     "start_time": "2020-10-04T17:46:54.688719",
     "status": "completed"
    },
    "tags": []
   },
   "outputs": [
    {
     "name": "stderr",
     "output_type": "stream",
     "text": [
      "/opt/conda/lib/python3.7/site-packages/sklearn/linear_model/_logistic.py:764: ConvergenceWarning: lbfgs failed to converge (status=1):\n",
      "STOP: TOTAL NO. of ITERATIONS REACHED LIMIT.\n",
      "\n",
      "Increase the number of iterations (max_iter) or scale the data as shown in:\n",
      "    https://scikit-learn.org/stable/modules/preprocessing.html\n",
      "Please also refer to the documentation for alternative solver options:\n",
      "    https://scikit-learn.org/stable/modules/linear_model.html#logistic-regression\n",
      "  extra_warning_msg=_LOGISTIC_SOLVER_CONVERGENCE_MSG)\n"
     ]
    },
    {
     "data": {
      "text/plain": [
       "LogisticRegression()"
      ]
     },
     "execution_count": 21,
     "metadata": {},
     "output_type": "execute_result"
    }
   ],
   "source": [
    "model.fit(X_train, y_train)"
   ]
  },
  {
   "cell_type": "code",
   "execution_count": 22,
   "metadata": {
    "execution": {
     "iopub.execute_input": "2020-10-04T17:46:54.912059Z",
     "iopub.status.busy": "2020-10-04T17:46:54.911195Z",
     "iopub.status.idle": "2020-10-04T17:46:54.918001Z",
     "shell.execute_reply": "2020-10-04T17:46:54.917172Z"
    },
    "papermill": {
     "duration": 0.047678,
     "end_time": "2020-10-04T17:46:54.918164",
     "exception": false,
     "start_time": "2020-10-04T17:46:54.870486",
     "status": "completed"
    },
    "tags": []
   },
   "outputs": [
    {
     "data": {
      "text/plain": [
       "0.8632075471698113"
      ]
     },
     "execution_count": 22,
     "metadata": {},
     "output_type": "execute_result"
    }
   ],
   "source": [
    "model.score(X_test,y_test)"
   ]
  },
  {
   "cell_type": "code",
   "execution_count": null,
   "metadata": {
    "papermill": {
     "duration": 0.032553,
     "end_time": "2020-10-04T17:46:54.985425",
     "exception": false,
     "start_time": "2020-10-04T17:46:54.952872",
     "status": "completed"
    },
    "tags": []
   },
   "outputs": [],
   "source": []
  }
 ],
 "metadata": {
  "kernelspec": {
   "display_name": "Python 3",
   "language": "python",
   "name": "python3"
  },
  "language_info": {
   "codemirror_mode": {
    "name": "ipython",
    "version": 3
   },
   "file_extension": ".py",
   "mimetype": "text/x-python",
   "name": "python",
   "nbconvert_exporter": "python",
   "pygments_lexer": "ipython3",
   "version": "3.7.6"
  },
  "papermill": {
   "duration": 10.457432,
   "end_time": "2020-10-04T17:46:55.128821",
   "environment_variables": {},
   "exception": null,
   "input_path": "__notebook__.ipynb",
   "output_path": "__notebook__.ipynb",
   "parameters": {},
   "start_time": "2020-10-04T17:46:44.671389",
   "version": "2.1.0"
  }
 },
 "nbformat": 4,
 "nbformat_minor": 4
}
